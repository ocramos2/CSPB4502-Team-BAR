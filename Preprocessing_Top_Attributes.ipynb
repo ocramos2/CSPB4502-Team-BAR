{
 "cells": [
  {
   "cell_type": "code",
   "execution_count": 4,
   "metadata": {},
   "outputs": [],
   "source": [
    "import numpy as np\n",
    "import pandas as pd\n",
    "import shared_vars"
   ]
  },
  {
   "cell_type": "code",
   "execution_count": 5,
   "metadata": {},
   "outputs": [
    {
     "name": "stderr",
     "output_type": "stream",
     "text": [
      "/var/folders/0f/mnq8g57j21525zl91jf19gy40000gn/T/ipykernel_9236/2260985836.py:1: DtypeWarning: Columns (91,92,93,94,101,102,103,108,110,111) have mixed types. Specify dtype option on import or set low_memory=False.\n",
      "  df = pd.read_csv(\"Clean_NFL_Dataset.csv\")\n"
     ]
    },
    {
     "name": "stdout",
     "output_type": "stream",
     "text": [
      "--- Columns before cleaning:\n",
      "Unnamed: 0\n",
      "play_id\n",
      "game_id\n",
      "home_team\n",
      "away_team\n",
      "posteam\n",
      "posteam_type\n",
      "defteam\n",
      "side_of_field\n",
      "yardline_100\n",
      "game_date\n",
      "quarter_seconds_remaining\n",
      "quarter_end\n",
      "drive\n",
      "sp\n",
      "qtr\n",
      "down\n",
      "goal_to_go\n",
      "time\n",
      "yrdln\n",
      "ydstogo\n",
      "ydsnet\n",
      "desc\n",
      "play_type\n",
      "yards_gained\n",
      "shotgun\n",
      "no_huddle\n",
      "qb_dropback\n",
      "qb_kneel\n",
      "qb_spike\n",
      "qb_scramble\n",
      "pass_length\n",
      "pass_location\n",
      "yards_after_catch\n",
      "run_location\n",
      "run_gap\n",
      "kick_distance\n",
      "extra_point_result\n",
      "two_point_conv_result\n",
      "home_timeouts_remaining\n",
      "away_timeouts_remaining\n",
      "timeout\n",
      "timeout_team\n",
      "td_team\n",
      "posteam_timeouts_remaining\n",
      "defteam_timeouts_remaining\n",
      "total_home_score\n",
      "total_away_score\n",
      "score_differential\n",
      "td_prob\n",
      "ep\n",
      "epa\n",
      "wp\n",
      "wpa\n",
      "punt_blocked\n",
      "first_down_rush\n",
      "first_down_pass\n",
      "first_down_penalty\n",
      "third_down_converted\n",
      "third_down_failed\n",
      "fourth_down_converted\n",
      "fourth_down_failed\n",
      "incomplete_pass\n",
      "interception\n",
      "punt_inside_twenty\n",
      "punt_in_endzone\n",
      "punt_out_of_bounds\n",
      "punt_downed\n",
      "punt_fair_catch\n",
      "fumble_forced\n",
      "fumble_not_forced\n",
      "solo_tackle\n",
      "safety\n",
      "penalty\n",
      "tackled_for_loss\n",
      "fumble_lost\n",
      "rush_attempt\n",
      "pass_attempt\n",
      "sack\n",
      "touchdown\n",
      "pass_touchdown\n",
      "fumble\n",
      "complete_pass\n",
      "lateral_reception\n",
      "lateral_rush\n",
      "passer_player_id\n",
      "passer_player_name\n",
      "receiver_player_id\n",
      "receiver_player_name\n",
      "rusher_player_id\n",
      "rusher_player_name\n",
      "lateral_receiver_player_id\n",
      "lateral_receiver_player_name\n",
      "lateral_rusher_player_id\n",
      "lateral_rusher_player_name\n",
      "interception_player_id\n",
      "interception_player_name\n",
      "kickoff_returner_player_name\n",
      "fumbled_1_team\n",
      "fumbled_1_player_id\n",
      "fumbled_1_player_name\n",
      "fumbled_2_player_id\n",
      "fumbled_2_player_name\n",
      "fumbled_2_team\n",
      "fumble_recovery_1_team\n",
      "fumble_recovery_1_yards\n",
      "fumble_recovery_1_player_id\n",
      "fumble_recovery_1_player_name\n",
      "fumble_recovery_2_team\n",
      "fumble_recovery_2_yards\n",
      "fumble_recovery_2_player_id\n",
      "fumble_recovery_2_player_name\n",
      "\n"
     ]
    }
   ],
   "source": [
    "df = pd.read_csv(\"Clean_NFL_Dataset.csv\")\n",
    "\n",
    "# Display columns before cleaning\n",
    "# You can double-check the ending columns by subtracting ending from starting columns\n",
    "print(\"--- Columns before cleaning:\")\n",
    "for column in df.columns.values:\n",
    "    print(column)\n",
    "\n",
    "print()"
   ]
  },
  {
   "cell_type": "code",
   "execution_count": 6,
   "metadata": {},
   "outputs": [
    {
     "name": "stdout",
     "output_type": "stream",
     "text": [
      "--- Columns after cleaning:\n",
      "epa\n",
      "wpa\n",
      "yards_gained\n",
      "first_down_pass\n",
      "complete_pass\n",
      "yards_after_catch\n",
      "third_down_converted\n",
      "pass_touchdown\n",
      "touchdown\n",
      "first_down_rush\n",
      "ydsnet\n",
      "\n"
     ]
    }
   ],
   "source": [
    "# Filters columns by name, cut_cols list defined in shared_vars.py file\n",
    "df = df.filter(shared_vars.leave_cols, axis=1)\n",
    "\n",
    "# Display columns after cleaning\n",
    "# You can double-check the ending columns by subtracting ending from starting columns\n",
    "print(\"--- Columns after cleaning:\")\n",
    "for column in df.columns.values:\n",
    "    print(column)\n",
    "\n",
    "print()"
   ]
  },
  {
   "cell_type": "code",
   "execution_count": 7,
   "metadata": {},
   "outputs": [],
   "source": [
    "# Save the clean dataset into new file to work on Tableau\n",
    "df.to_csv('Cleaned_Attributes.csv', encoding='utf-8')"
   ]
  }
 ],
 "metadata": {
  "interpreter": {
   "hash": "aee8b7b246df8f9039afb4144a1f6fd8d2ca17a180786b69acc140d282b71a49"
  },
  "kernelspec": {
   "display_name": "Python 3.9.6 64-bit",
   "language": "python",
   "name": "python3"
  },
  "language_info": {
   "codemirror_mode": {
    "name": "ipython",
    "version": 3
   },
   "file_extension": ".py",
   "mimetype": "text/x-python",
   "name": "python",
   "nbconvert_exporter": "python",
   "pygments_lexer": "ipython3",
   "version": "3.9.12"
  },
  "orig_nbformat": 4
 },
 "nbformat": 4,
 "nbformat_minor": 2
}
